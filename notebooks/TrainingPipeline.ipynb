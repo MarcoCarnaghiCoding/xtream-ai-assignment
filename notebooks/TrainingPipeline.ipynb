{
 "cells": [
  {
   "cell_type": "markdown",
   "metadata": {},
   "source": []
  },
  {
   "cell_type": "code",
   "execution_count": 6,
   "metadata": {},
   "outputs": [],
   "source": [
    "import pickle\n",
    "import numpy as np\n",
    "import pandas as pd\n",
    "from sklearn.model_selection import train_test_split\n",
    "from sklearn.ensemble import RandomForestRegressor\n",
    "from sklearn.metrics import mean_squared_error\n",
    "from sklearn.preprocessing import StandardScaler, OneHotEncoder\n",
    "from sklearn.compose import ColumnTransformer\n",
    "from sklearn.pipeline import Pipeline\n",
    "import os\n",
    "import sys"
   ]
  },
  {
   "cell_type": "markdown",
   "metadata": {},
   "source": [
    "## Load models"
   ]
  },
  {
   "cell_type": "code",
   "execution_count": 7,
   "metadata": {},
   "outputs": [],
   "source": [
    "def load_object(file_path):\n",
    "    \n",
    "    with open(file_path, \"rb\") as file_obj:\n",
    "        return pickle.load(file_obj)\n",
    "\n",
    "filepath = \"./models/\"\n",
    "\n",
    "RF_pre_trained_model = load_object(filepath + f'RandomForestRegressorModel.pkl')\n",
    "XGB_pre_trained_model = load_object(filepath + f'XGRegressorModel.pkl')\n",
    "preprocessor = load_object(filepath + f'preprocessor.pkl')"
   ]
  },
  {
   "cell_type": "code",
   "execution_count": 8,
   "metadata": {},
   "outputs": [],
   "source": [
    "def save_object(file_path, obj):\n",
    "    \n",
    "    dir_path = os.path.dirname(file_path)\n",
    "\n",
    "    os.makedirs(dir_path, exist_ok=True)\n",
    "\n",
    "    with open(file_path, \"wb\") as file_obj:\n",
    "        pickle.dump(obj, file_obj)\n"
   ]
  },
  {
   "cell_type": "markdown",
   "metadata": {},
   "source": [
    "## Load and process data"
   ]
  },
  {
   "cell_type": "code",
   "execution_count": 9,
   "metadata": {},
   "outputs": [],
   "source": [
    "def feature_engineering(df):\n",
    "\n",
    "    # Calculate the beta and alpha values\n",
    "    df['beta'] = df['depth'] / 100\n",
    "    df['alpha'] = (1 - df['beta']) * (1 + (df['table'] / 100)**2)\n",
    "\n",
    "    # Calculate the volume of the diamond\n",
    "    df['volume'] = 0.5 * df['z'] * df['x'] * df['y'] * (df['alpha'] + df['beta'])\n",
    "\n",
    "    # Calculate the density of the diamond\n",
    "    df['density'] = df['carat'] / df['volume']\n",
    "\n",
    "    # Drop the auxiliary columns\n",
    "    df.drop(['beta', 'alpha'], axis=1, inplace=True)\n",
    "\n",
    "    return df"
   ]
  },
  {
   "cell_type": "code",
   "execution_count": 10,
   "metadata": {},
   "outputs": [],
   "source": [
    "def removing_outliers(df):\n",
    "    \n",
    "    # Define the conditions for removing outliers\n",
    "    conditions = [\n",
    "        (df['carat'] > 0) & (df['price'] < 100),\n",
    "        (df['z'] > 2) & (df['price'] < 100),\n",
    "        (df['z'] < 2),\n",
    "        (df['y'] > 3) & (df['price'] < 100),\n",
    "        (df['y'] < 2),\n",
    "        (df['x'] > 2) & (df['price'] < 100),\n",
    "        (df['x'] < 2),\n",
    "        (df['table'] > 75),\n",
    "        (df['depth'] < 50),\n",
    "        (df['density'] < 0.008)\n",
    "\n",
    "    ]\n",
    "\n",
    "    # Create a mask for the rows to be removed\n",
    "    mask = np.any(conditions, axis=0)\n",
    "\n",
    "    # Drop the rows that meet the conditions\n",
    "    df = df[~mask]\n",
    "    return df"
   ]
  },
  {
   "cell_type": "code",
   "execution_count": 11,
   "metadata": {},
   "outputs": [],
   "source": [
    "def drop_redundant_features(df,redundant_features = ['x', 'y', 'z', 'density']):\n",
    "    \n",
    "    df = df.drop(redundant_features, axis=1)\n",
    "    \n",
    "    return df  "
   ]
  },
  {
   "cell_type": "code",
   "execution_count": 12,
   "metadata": {},
   "outputs": [],
   "source": [
    "def preprocess_data(df,preprocessor,\n",
    "                    numeric_features = ['volume', 'carat', 'depth', 'table'],\n",
    "                    categorical_features = ['color', 'cut', 'clarity'],\n",
    "                    target = 'price'):\n",
    "\n",
    "    # Adding Features\n",
    "    df = feature_engineering(df)\n",
    "\n",
    "    # Removing Outliers\n",
    "    df = removing_outliers(df)\n",
    "\n",
    "    # Drop redundant features\n",
    "    df = drop_redundant_features(df) \n",
    "\n",
    "    # Preprocess the data\n",
    "    X_new = df.drop(target, axis=1)\n",
    "    y_new = df[target]\n",
    "    X_new_preprocessed = preprocessor.transform(X_new)\n",
    "\n",
    "    return X_new_preprocessed , y_new"
   ]
  },
  {
   "cell_type": "code",
   "execution_count": 15,
   "metadata": {},
   "outputs": [
    {
     "data": {
      "text/html": [
       "<style>#sk-container-id-1 {color: black;background-color: white;}#sk-container-id-1 pre{padding: 0;}#sk-container-id-1 div.sk-toggleable {background-color: white;}#sk-container-id-1 label.sk-toggleable__label {cursor: pointer;display: block;width: 100%;margin-bottom: 0;padding: 0.3em;box-sizing: border-box;text-align: center;}#sk-container-id-1 label.sk-toggleable__label-arrow:before {content: \"▸\";float: left;margin-right: 0.25em;color: #696969;}#sk-container-id-1 label.sk-toggleable__label-arrow:hover:before {color: black;}#sk-container-id-1 div.sk-estimator:hover label.sk-toggleable__label-arrow:before {color: black;}#sk-container-id-1 div.sk-toggleable__content {max-height: 0;max-width: 0;overflow: hidden;text-align: left;background-color: #f0f8ff;}#sk-container-id-1 div.sk-toggleable__content pre {margin: 0.2em;color: black;border-radius: 0.25em;background-color: #f0f8ff;}#sk-container-id-1 input.sk-toggleable__control:checked~div.sk-toggleable__content {max-height: 200px;max-width: 100%;overflow: auto;}#sk-container-id-1 input.sk-toggleable__control:checked~label.sk-toggleable__label-arrow:before {content: \"▾\";}#sk-container-id-1 div.sk-estimator input.sk-toggleable__control:checked~label.sk-toggleable__label {background-color: #d4ebff;}#sk-container-id-1 div.sk-label input.sk-toggleable__control:checked~label.sk-toggleable__label {background-color: #d4ebff;}#sk-container-id-1 input.sk-hidden--visually {border: 0;clip: rect(1px 1px 1px 1px);clip: rect(1px, 1px, 1px, 1px);height: 1px;margin: -1px;overflow: hidden;padding: 0;position: absolute;width: 1px;}#sk-container-id-1 div.sk-estimator {font-family: monospace;background-color: #f0f8ff;border: 1px dotted black;border-radius: 0.25em;box-sizing: border-box;margin-bottom: 0.5em;}#sk-container-id-1 div.sk-estimator:hover {background-color: #d4ebff;}#sk-container-id-1 div.sk-parallel-item::after {content: \"\";width: 100%;border-bottom: 1px solid gray;flex-grow: 1;}#sk-container-id-1 div.sk-label:hover label.sk-toggleable__label {background-color: #d4ebff;}#sk-container-id-1 div.sk-serial::before {content: \"\";position: absolute;border-left: 1px solid gray;box-sizing: border-box;top: 0;bottom: 0;left: 50%;z-index: 0;}#sk-container-id-1 div.sk-serial {display: flex;flex-direction: column;align-items: center;background-color: white;padding-right: 0.2em;padding-left: 0.2em;position: relative;}#sk-container-id-1 div.sk-item {position: relative;z-index: 1;}#sk-container-id-1 div.sk-parallel {display: flex;align-items: stretch;justify-content: center;background-color: white;position: relative;}#sk-container-id-1 div.sk-item::before, #sk-container-id-1 div.sk-parallel-item::before {content: \"\";position: absolute;border-left: 1px solid gray;box-sizing: border-box;top: 0;bottom: 0;left: 50%;z-index: -1;}#sk-container-id-1 div.sk-parallel-item {display: flex;flex-direction: column;z-index: 1;position: relative;background-color: white;}#sk-container-id-1 div.sk-parallel-item:first-child::after {align-self: flex-end;width: 50%;}#sk-container-id-1 div.sk-parallel-item:last-child::after {align-self: flex-start;width: 50%;}#sk-container-id-1 div.sk-parallel-item:only-child::after {width: 0;}#sk-container-id-1 div.sk-dashed-wrapped {border: 1px dashed gray;margin: 0 0.4em 0.5em 0.4em;box-sizing: border-box;padding-bottom: 0.4em;background-color: white;}#sk-container-id-1 div.sk-label label {font-family: monospace;font-weight: bold;display: inline-block;line-height: 1.2em;}#sk-container-id-1 div.sk-label-container {text-align: center;}#sk-container-id-1 div.sk-container {/* jupyter's `normalize.less` sets `[hidden] { display: none; }` but bootstrap.min.css set `[hidden] { display: none !important; }` so we also need the `!important` here to be able to override the default hidden behavior on the sphinx rendered scikit-learn.org. See: https://github.com/scikit-learn/scikit-learn/issues/21755 */display: inline-block !important;position: relative;}#sk-container-id-1 div.sk-text-repr-fallback {display: none;}</style><div id=\"sk-container-id-1\" class=\"sk-top-container\"><div class=\"sk-text-repr-fallback\"><pre>XGBRegressor(base_score=None, booster=None, callbacks=None,\n",
       "             colsample_bylevel=None, colsample_bynode=None,\n",
       "             colsample_bytree=1.0, device=None, early_stopping_rounds=None,\n",
       "             enable_categorical=False, eval_metric=None, feature_types=None,\n",
       "             gamma=None, grow_policy=None, importance_type=None,\n",
       "             interaction_constraints=None, learning_rate=0.1, max_bin=None,\n",
       "             max_cat_threshold=None, max_cat_to_onehot=None,\n",
       "             max_delta_step=None, max_depth=7, max_leaves=None,\n",
       "             min_child_weight=None, missing=nan, monotone_constraints=None,\n",
       "             multi_strategy=None, n_estimators=200, n_jobs=None,\n",
       "             num_parallel_tree=None, random_state=42, ...)</pre><b>In a Jupyter environment, please rerun this cell to show the HTML representation or trust the notebook. <br />On GitHub, the HTML representation is unable to render, please try loading this page with nbviewer.org.</b></div><div class=\"sk-container\" hidden><div class=\"sk-item\"><div class=\"sk-estimator sk-toggleable\"><input class=\"sk-toggleable__control sk-hidden--visually\" id=\"sk-estimator-id-1\" type=\"checkbox\" checked><label for=\"sk-estimator-id-1\" class=\"sk-toggleable__label sk-toggleable__label-arrow\">XGBRegressor</label><div class=\"sk-toggleable__content\"><pre>XGBRegressor(base_score=None, booster=None, callbacks=None,\n",
       "             colsample_bylevel=None, colsample_bynode=None,\n",
       "             colsample_bytree=1.0, device=None, early_stopping_rounds=None,\n",
       "             enable_categorical=False, eval_metric=None, feature_types=None,\n",
       "             gamma=None, grow_policy=None, importance_type=None,\n",
       "             interaction_constraints=None, learning_rate=0.1, max_bin=None,\n",
       "             max_cat_threshold=None, max_cat_to_onehot=None,\n",
       "             max_delta_step=None, max_depth=7, max_leaves=None,\n",
       "             min_child_weight=None, missing=nan, monotone_constraints=None,\n",
       "             multi_strategy=None, n_estimators=200, n_jobs=None,\n",
       "             num_parallel_tree=None, random_state=42, ...)</pre></div></div></div></div></div>"
      ],
      "text/plain": [
       "XGBRegressor(base_score=None, booster=None, callbacks=None,\n",
       "             colsample_bylevel=None, colsample_bynode=None,\n",
       "             colsample_bytree=1.0, device=None, early_stopping_rounds=None,\n",
       "             enable_categorical=False, eval_metric=None, feature_types=None,\n",
       "             gamma=None, grow_policy=None, importance_type=None,\n",
       "             interaction_constraints=None, learning_rate=0.1, max_bin=None,\n",
       "             max_cat_threshold=None, max_cat_to_onehot=None,\n",
       "             max_delta_step=None, max_depth=7, max_leaves=None,\n",
       "             min_child_weight=None, missing=nan, monotone_constraints=None,\n",
       "             multi_strategy=None, n_estimators=200, n_jobs=None,\n",
       "             num_parallel_tree=None, random_state=42, ...)"
      ]
     },
     "execution_count": 15,
     "metadata": {},
     "output_type": "execute_result"
    }
   ],
   "source": [
    "# Relevant features\n",
    "numeric_features = ['volume', 'carat', 'depth', 'table']\n",
    "categorical_features = ['color', 'cut', 'clarity']\n",
    "target = 'price'\n",
    "\n",
    "\n",
    "# Load the new data\n",
    "filepath = '../datasets/diamonds/'\n",
    "fresh_data = pd.read_csv(filepath + 'fresh_data.csv')\n",
    "\n",
    "# Process data\n",
    "X_new_preprocessed , y_new = preprocess_data(   df = fresh_data,\n",
    "                                                preprocessor = preprocessor,\n",
    "                                                numeric_features = numeric_features,\n",
    "                                                categorical_features = categorical_features,\n",
    "                                                target = target)\n",
    "\n",
    "\n",
    "#  Fine-tune the model on the new data\n",
    "RF_pre_trained_model.fit(X_new_preprocessed, y_new)\n",
    "XGB_pre_trained_model.fit(X_new_preprocessed, y_new)\n",
    "\n",
    "# Save the updated model\n",
    "#filepath = \"./models/\"\n",
    "#save_object(filepath + f'RandomForestRegressorModel.pkl', RF_pre_trained_model)\n",
    "#save_object(filepath + f'XGRegressorModel.pkl', XGB_pre_trained_model)\n"
   ]
  },
  {
   "cell_type": "markdown",
   "metadata": {},
   "source": []
  },
  {
   "cell_type": "code",
   "execution_count": 16,
   "metadata": {},
   "outputs": [
    {
     "name": "stdout",
     "output_type": "stream",
     "text": [
      "Random Forest Metrics:\n",
      "Mean Absolute Error (MAE): 1305.19\n",
      "Mean Squared Error (MSE): 2607106.21\n",
      "Root Mean Squared Error (RMSE): 1614.65\n",
      "R-squared (R2): 0.90\n",
      "\n",
      "XGBoost Metrics:\n",
      "Mean Absolute Error (MAE): 0.08\n",
      "Mean Squared Error (MSE): 0.03\n",
      "Root Mean Squared Error (RMSE): 0.16\n",
      "R-squared (R2): 1.00\n"
     ]
    }
   ],
   "source": [
    "from sklearn.metrics import mean_absolute_error, mean_squared_error, r2_score\n",
    "\n",
    "# Predictions on the test set\n",
    "rf_predictions = RF_pre_trained_model.predict(X_new_preprocessed)\n",
    "xgb_predictions = XGB_pre_trained_model.predict(X_new_preprocessed)\n",
    "\n",
    "# Evaluate Random Forest model\n",
    "rf_mae = mean_absolute_error(y_new, rf_predictions)\n",
    "rf_mse = mean_squared_error(y_new, rf_predictions)\n",
    "rf_rmse = mean_squared_error(y_new, rf_predictions, squared=False)\n",
    "rf_r2 = r2_score(y_new, rf_predictions)\n",
    "\n",
    "print(\"Random Forest Metrics:\")\n",
    "print(f\"Mean Absolute Error (MAE): {rf_mae:.2f}\")\n",
    "print(f\"Mean Squared Error (MSE): {rf_mse:.2f}\")\n",
    "print(f\"Root Mean Squared Error (RMSE): {rf_rmse:.2f}\")\n",
    "print(f\"R-squared (R2): {rf_r2:.2f}\")\n",
    "print()\n",
    "\n",
    "# Evaluate XGBoost model\n",
    "xgb_mae = mean_absolute_error(y_new, xgb_predictions)\n",
    "xgb_mse = mean_squared_error(y_new, xgb_predictions)\n",
    "xgb_rmse = mean_squared_error(y_new, xgb_predictions, squared=False)\n",
    "xgb_r2 = r2_score(y_new, xgb_predictions)\n",
    "\n",
    "print(\"XGBoost Metrics:\")\n",
    "print(f\"Mean Absolute Error (MAE): {xgb_mae:.2f}\")\n",
    "print(f\"Mean Squared Error (MSE): {xgb_mse:.2f}\")\n",
    "print(f\"Root Mean Squared Error (RMSE): {xgb_rmse:.2f}\")\n",
    "print(f\"R-squared (R2): {xgb_r2:.2f}\")"
   ]
  },
  {
   "cell_type": "code",
   "execution_count": null,
   "metadata": {},
   "outputs": [],
   "source": []
  }
 ],
 "metadata": {
  "kernelspec": {
   "display_name": "Python 3",
   "language": "python",
   "name": "python3"
  },
  "language_info": {
   "codemirror_mode": {
    "name": "ipython",
    "version": 3
   },
   "file_extension": ".py",
   "mimetype": "text/x-python",
   "name": "python",
   "nbconvert_exporter": "python",
   "pygments_lexer": "ipython3",
   "version": "3.10.2"
  }
 },
 "nbformat": 4,
 "nbformat_minor": 2
}
